{
 "cells": [
  {
   "cell_type": "code",
   "execution_count": 1,
   "metadata": {},
   "outputs": [],
   "source": [
    "import linedraw"
   ]
  },
  {
   "cell_type": "code",
   "execution_count": 4,
   "metadata": {},
   "outputs": [],
   "source": [
    "from random import *\n",
    "import math\n",
    "import argparse\n",
    "\n",
    "from PIL import Image, ImageDraw, ImageOps\n",
    "\n",
    "from filters import *\n",
    "from strokesort import *\n",
    "import perlin\n",
    "from util import *\n",
    "\n",
    "import numpy as np\n",
    "import cv2"
   ]
  },
  {
   "cell_type": "code",
   "execution_count": 51,
   "metadata": {},
   "outputs": [],
   "source": [
    "no_cv = False\n",
    "no_svg = False\n",
    "export_path = \"output/out.svg\"\n",
    "draw_contours = True\n",
    "draw_hatch = True\n",
    "show_bitmap = False\n",
    "resolution = 1024\n",
    "hatch_size = 16\n",
    "contour_simplify = 2"
   ]
  },
  {
   "cell_type": "code",
   "execution_count": 52,
   "metadata": {},
   "outputs": [],
   "source": [
    "path = \"images/lion.jpeg\"\n",
    "image = Image.open(path)\n",
    "w, h = image.size"
   ]
  },
  {
   "cell_type": "code",
   "execution_count": 53,
   "metadata": {},
   "outputs": [],
   "source": [
    "im_l = image.convert(\"L\")\n",
    "im_r, im_g, im_b = image.split()\n",
    "\n",
    "im_l = ImageOps.autocontrast(im_l,10)\n",
    "im_r = ImageOps.autocontrast(im_r,10)\n",
    "im_g = ImageOps.autocontrast(im_g,10)\n",
    "im_b = ImageOps.autocontrast(im_b,10)\n",
    "\n",
    "im_channels = [(im_l, \"black\"), (im_r, \"red\"), (im_g, \"green\"), (im_b, \"blue\")]"
   ]
  },
  {
   "cell_type": "code",
   "execution_count": 54,
   "metadata": {},
   "outputs": [
    {
     "name": "stdout",
     "output_type": "stream",
     "text": [
      "color: black\n",
      "generating contours...\n",
      "finding edges...\n",
      "getting contour points...\n",
      "connecting contour points...\n",
      "getting contour points...\n",
      "connecting contour points...\n",
      "hatching...\n",
      "optimizing stroke sequence...\n",
      "color: red\n",
      "generating contours...\n",
      "finding edges...\n",
      "getting contour points...\n",
      "connecting contour points...\n",
      "getting contour points...\n",
      "connecting contour points...\n",
      "hatching...\n",
      "optimizing stroke sequence...\n",
      "color: green\n",
      "generating contours...\n",
      "finding edges...\n",
      "getting contour points...\n",
      "connecting contour points...\n",
      "getting contour points...\n",
      "connecting contour points...\n",
      "hatching...\n",
      "optimizing stroke sequence...\n",
      "color: blue\n",
      "generating contours...\n",
      "finding edges...\n",
      "getting contour points...\n",
      "connecting contour points...\n",
      "getting contour points...\n",
      "connecting contour points...\n",
      "hatching...\n",
      "optimizing stroke sequence...\n"
     ]
    }
   ],
   "source": [
    "lines_dict = {}\n",
    "for im, color in im_channels:\n",
    "    print(f'color: {color}')\n",
    "\n",
    "    lines = []\n",
    "    if draw_contours:\n",
    "        lines += linedraw.getcontours(im.resize((resolution//contour_simplify,resolution//contour_simplify*h//w)),contour_simplify)\n",
    "    if draw_hatch:\n",
    "        lines += linedraw.hatch(im.resize((resolution//hatch_size,resolution//hatch_size*h//w)),hatch_size)\n",
    "\n",
    "    lines = sortlines(lines)\n",
    "\n",
    "    lines_dict[color] = lines"
   ]
  },
  {
   "cell_type": "code",
   "execution_count": 55,
   "metadata": {},
   "outputs": [],
   "source": [
    "def makesvg(lines):\n",
    "    print(\"generating svg file...\")\n",
    "    out = '<svg xmlns=\"http://www.w3.org/2000/svg\" version=\"1.1\">'\n",
    "    if (type(lines) == dict):\n",
    "        for color in lines:\n",
    "            for l in lines[color]:\n",
    "                l = \",\".join([str(p[0]*0.5)+\",\"+str(p[1]*0.5) for p in l])\n",
    "                out += '<polyline points=\"'+l+f'\" stroke=\"{color}\" stroke-width=\"2\" fill=\"none\" />\\n'\n",
    "        \n",
    "    else:\n",
    "        for l in lines:\n",
    "            l = \",\".join([str(p[0]*0.5)+\",\"+str(p[1]*0.5) for p in l])\n",
    "            out += '<polyline points=\"'+l+'\" stroke=\"black\" stroke-width=\"2\" fill=\"none\" />\\n'\n",
    "    \n",
    "    out += '</svg>'\n",
    "    return out"
   ]
  },
  {
   "cell_type": "code",
   "execution_count": 56,
   "metadata": {},
   "outputs": [
    {
     "name": "stdout",
     "output_type": "stream",
     "text": [
      "generating svg file...\n"
     ]
    }
   ],
   "source": [
    "out_svg = makesvg(lines_dict)"
   ]
  },
  {
   "cell_type": "code",
   "execution_count": 57,
   "metadata": {},
   "outputs": [],
   "source": [
    "f = open(export_path,'w')\n",
    "f.write(out_svg)\n",
    "f.close()"
   ]
  },
  {
   "cell_type": "code",
   "execution_count": 58,
   "metadata": {},
   "outputs": [
    {
     "name": "stderr",
     "output_type": "stream",
     "text": [
      "/snap/core20/current/lib/x86_64-linux-gnu/libstdc++.so.6: version `GLIBCXX_3.4.29' not found (required by /lib/x86_64-linux-gnu/libproxy.so.1)\n",
      "Failed to load module: /home/babos/snap/code/common/.cache/gio-modules/libgiolibproxy.so\n",
      "eog: symbol lookup error: /snap/core20/current/lib/x86_64-linux-gnu/libpthread.so.0: undefined symbol: __libc_pthread_init, version GLIBC_PRIVATE\n"
     ]
    }
   ],
   "source": [
    "disp = Image.new(\"RGB\",(resolution,resolution*h//w),(255,255,255))\n",
    "draw = ImageDraw.Draw(disp)\n",
    "if (type(lines_dict) == dict):\n",
    "    for color in lines:\n",
    "        for l in lines:\n",
    "            if color == 'black':\n",
    "                draw.line(l,(0,0,0),5)\n",
    "            elif color == 'red':\n",
    "                draw.line(l,(255,0,0),5)\n",
    "            elif color == 'green':\n",
    "                draw.line(l,(0,255,0),5)\n",
    "            elif color == 'blue':\n",
    "                draw.line(l,(0,0,255),5)\n",
    "else:\n",
    "    for l in lines:\n",
    "        draw.line(l,(0,0,0),5)\n",
    "disp.show()"
   ]
  }
 ],
 "metadata": {
  "kernelspec": {
   "display_name": "ld",
   "language": "python",
   "name": "python3"
  },
  "language_info": {
   "codemirror_mode": {
    "name": "ipython",
    "version": 3
   },
   "file_extension": ".py",
   "mimetype": "text/x-python",
   "name": "python",
   "nbconvert_exporter": "python",
   "pygments_lexer": "ipython3",
   "version": "3.10.13"
  }
 },
 "nbformat": 4,
 "nbformat_minor": 2
}
